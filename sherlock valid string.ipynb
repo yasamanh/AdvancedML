{
 "cells": [
  {
   "cell_type": "code",
   "execution_count": null,
   "metadata": {
    "collapsed": true
   },
   "outputs": [],
   "source": [
    "def allEqual(lst):\n",
    "\t''' Returns if all entries in the lst are equal. '''\n",
    "\tif len(lst) = 0:\n",
    "\t\treturn True\n",
    "    first = lst[0]\n",
    "    if all(first == rest for rest in lst[1:]):\n",
    "        return True\n",
    "    return False\n",
    "\n",
    "def isValid(s):\n",
    "    if len(s) <2:\n",
    "        return \"YES\"\n",
    "    \n",
    "    char_dict = defaultdict(int)\n",
    "    for char in s:\n",
    "        char_dict[char] += 1\n",
    "        \n",
    "    if 1 in char_dict.values():\n",
    "        lst = char_dict.values()\n",
    "        lst.remove(1)\n",
    "        if allEqual(lst):\n",
    "            return \"YES\"\n",
    "        \n",
    "    max_num = max(char_dict.values())\n",
    "    lst = char_dict.values()\n",
    "    lst.remove(max_num)\n",
    "    if allEqual(lst):\n",
    "        return \"YES\"\n",
    "    \n",
    "    return \"NO\""
   ]
  }
 ],
 "metadata": {
  "kernelspec": {
   "display_name": "Python 2",
   "language": "python",
   "name": "python2"
  },
  "language_info": {
   "codemirror_mode": {
    "name": "ipython",
    "version": 2
   },
   "file_extension": ".py",
   "mimetype": "text/x-python",
   "name": "python",
   "nbconvert_exporter": "python",
   "pygments_lexer": "ipython2",
   "version": "2.7.13"
  }
 },
 "nbformat": 4,
 "nbformat_minor": 2
}
